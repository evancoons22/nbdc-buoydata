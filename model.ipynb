{
 "cells": [
  {
   "cell_type": "markdown",
   "id": "0c80a809-f981-4cb0-b632-09dae392f333",
   "metadata": {},
   "source": [
    "## Training Model"
   ]
  },
  {
   "cell_type": "markdown",
   "id": "4fff6e31-41d4-4b5d-a598-24feee849417",
   "metadata": {},
   "source": [
    "### how can we predict multiple swell heights and directions? "
   ]
  },
  {
   "cell_type": "markdown",
   "id": "fce756f2-8a04-4801-937b-6ad5dd092aae",
   "metadata": {},
   "source": [
    "- each time stamp (every 30 minutes) has the dominant swell height. We want to predict this\n",
    "- for a 1 day prediction. get all the data as late as one day ago, and this is a data point with many dimensions. Maybe grab a snapshot of each buoy from \n",
    "- encode this into a large vector. Use WvHT (waveheight), MWD (main swell direction in degrees), ans SwP as prediction. \n",
    "- using a neural network is a good solution, because the data is high dimensional and non linear"
   ]
  },
  {
   "cell_type": "code",
   "execution_count": 1,
   "id": "c92f7baa-2f06-4644-bf10-1b9b75b926c1",
   "metadata": {},
   "outputs": [],
   "source": [
    "import torch\n",
    "import pandas as pd\n",
    "import sqlite3\n",
    "import numpy as np\n",
    "import functions\n",
    "\n",
    "import torch.nn as nn\n",
    "import torch.optim as optim\n",
    "from torch.utils.data import DataLoader, TensorDataset\n",
    "from matplotlib import pyplot as plt\n",
    "from datetime import datetime"
   ]
  },
  {
   "cell_type": "code",
   "execution_count": 81,
   "id": "1a921907-9b2d-4fa5-b3e1-6d29944da0b7",
   "metadata": {},
   "outputs": [
    {
     "name": "stdout",
     "output_type": "stream",
     "text": [
      "(1487, 1, 3)\n",
      "(1488, 75, 3)\n"
     ]
    }
   ],
   "source": [
    "conn = sqlite3.connect('db.db')\n",
    "data = pd.read_sql_query(\"SELECT * from main\", conn)\n",
    "data = functions.cleanData(data)\n",
    "\n",
    "target = functions.buildnparray(data[data[\"buoy_id\"] == \"46221\"])\n",
    "data = functions.buildnparray(data[data[\"buoy_id\"] != \"46221\"])\n",
    "\n",
    "# data = functions.buildnparray(functions.cleanData(data))\n",
    "data = data[1:]"
   ]
  },
  {
   "cell_type": "markdown",
   "id": "68e6dac7-2021-4d62-8739-e7dd08f56c93",
   "metadata": {},
   "source": [
    "### parameters and building data"
   ]
  },
  {
   "cell_type": "code",
   "execution_count": 63,
   "id": "0d714b81-59de-48eb-839d-35e74fffa131",
   "metadata": {},
   "outputs": [],
   "source": [
    "sequence_length = 24 * 10  # length of sequence, 24 hours * 10 days\n",
    "batch_size = 32      # Batch size for training\n",
    "num_epochs = 100      # Number of training epochs"
   ]
  },
  {
   "cell_type": "code",
   "execution_count": 4,
   "id": "634f93ba-7022-42cb-a076-508caa036861",
   "metadata": {},
   "outputs": [],
   "source": [
    "def intoTensor(data):\n",
    "    data_tensor = torch.Tensor(data) # convert to pytorch tensor\n",
    "\n",
    "    data_tensor = torch.reshape(data_tensor, (data.shape[0], -1))\n",
    "    nan_mask = torch.isnan(data_tensor)\n",
    "    data_tensor[nan_mask] = 0\n",
    "    return data_tensor"
   ]
  },
  {
   "cell_type": "code",
   "execution_count": 6,
   "id": "6dee980a-4dab-4789-b8bb-c02656805064",
   "metadata": {},
   "outputs": [],
   "source": [
    "data = intoTensor(data)\n",
    "target = intoTensor(target)"
   ]
  },
  {
   "cell_type": "code",
   "execution_count": 8,
   "id": "e98c9a5d-83c8-41ff-a121-3bb50ba2c5d6",
   "metadata": {},
   "outputs": [],
   "source": [
    "data_test = data[int(len(data) * 0.75):, :]\n",
    "data_train = data[:int(len(data) * 0.75), :]\n",
    "\n",
    "target_test = target[int(len(target) * 0.75):, :]\n",
    "target_train = target[:int(len(target) * 0.75), :]"
   ]
  },
  {
   "cell_type": "code",
   "execution_count": 82,
   "id": "0a360f53-0c36-4aa3-ba14-5db1ea3cb921",
   "metadata": {
    "tags": []
   },
   "outputs": [],
   "source": [
    "# Create input sequences and corresponding target values\n",
    "# want to predict 24 hours ahead\n",
    "\n",
    "def buildTensor(data_tensor, target_tensor, batch_size = batch_size):\n",
    "    input_sequences = []\n",
    "    target_values = []\n",
    "\n",
    "    for i in range(len(data_tensor) - sequence_length - 24):\n",
    "        input_seq = data_tensor[i:i+sequence_length]\n",
    "        target_val = target_tensor[i + sequence_length + 24]\n",
    "        # input_seq = data_tensor[i:i+sequence_length]  \n",
    "        # target_val = data_tensor[i+sequence_length] \n",
    "        input_sequences.append(input_seq)\n",
    "        target_values.append(target_val)\n",
    "    # print(\"input sequences\", input_sequences.shape)\n",
    "\n",
    "    input_sequences = torch.stack(input_sequences)\n",
    "    target_values = torch.stack(target_values)\n",
    "\n",
    "    dataset = TensorDataset(input_sequences, target_values)\n",
    "    dataloader = DataLoader(dataset, batch_size=batch_size, shuffle=True)\n",
    "    return (dataset, dataloader)\n",
    "\n",
    "dataset, dataloader = buildTensor(data_train, target_train)"
   ]
  },
  {
   "cell_type": "code",
   "execution_count": 71,
   "id": "563d303a-f814-4a8f-8089-66d37def936d",
   "metadata": {},
   "outputs": [],
   "source": [
    "class WaveForecastingRNN(nn.Module):\n",
    "    def __init__(self, input_size, hidden_size, num_layers, output_size):\n",
    "        super(WaveForecastingRNN, self).__init__()\n",
    "        # self.rnn = nn.RNN(input_size, hidden_size, num_layers, batch_first=True) # recurrent neural network\n",
    "        self.rnn = nn.LSTM(input_size, hidden_size, num_layers, batch_first=True) # long short term memory model\n",
    "        self.fc = nn.Linear(hidden_size, output_size) # fully connected layer\n",
    "        # self.fc = nn.Linear(hidden_size, output_size) # fully connected layer\n",
    "\n",
    "\n",
    "    def forward(self, x):\n",
    "        out, _ = self.rnn(x)\n",
    "        out = self.fc(out[:, -1, :])  # Use the last time step's output for prediction\n",
    "        return out"
   ]
  },
  {
   "cell_type": "markdown",
   "id": "d8882cdc-a152-497f-a84c-d64a60b4a29d",
   "metadata": {},
   "source": [
    "### Training"
   ]
  },
  {
   "cell_type": "code",
   "execution_count": 72,
   "id": "d416862c-5700-41bc-ad8b-18d811162daf",
   "metadata": {},
   "outputs": [
    {
     "name": "stdout",
     "output_type": "stream",
     "text": [
      "beginning training\n",
      "Epoch [1/100], Loss: 13184.1445\n",
      "Epoch [11/100], Loss: 12472.1553\n",
      "Epoch [21/100], Loss: 11817.4990\n",
      "Epoch [31/100], Loss: 11191.5918\n",
      "Epoch [41/100], Loss: 10590.0732\n",
      "Epoch [51/100], Loss: 10011.2305\n",
      "Epoch [61/100], Loss: 9453.9316\n",
      "Epoch [71/100], Loss: 8917.2705\n",
      "Epoch [81/100], Loss: 8400.4619\n",
      "Epoch [91/100], Loss: 7842.2065\n",
      "training finished in 0:02:24.347405, saving model\n"
     ]
    }
   ],
   "source": [
    "num_features = 225\n",
    "input_size = num_features\n",
    "hidden_size = 64\n",
    "num_layers = 1 \n",
    "output_size = 3\n",
    "# output_size = num_features\n",
    "\n",
    "loss_errors = []\n",
    "\n",
    "model = WaveForecastingRNN(input_size, hidden_size, num_layers, output_size)\n",
    "\n",
    "# Define the loss function and optimizer\n",
    "criterion = nn.MSELoss()\n",
    "optimizer = optim.Adam(model.parameters(), lr=0.001)\n",
    "\n",
    "start = datetime.now() # timing\n",
    "# Training loop\n",
    "print(f'beginning training')\n",
    "for epoch in range(num_epochs):\n",
    "    for inputs, targets in dataloader:\n",
    "        optimizer.zero_grad()\n",
    "        outputs = model(inputs)\n",
    "        loss = criterion(outputs, targets)\n",
    "        loss_errors.append(loss.item())\n",
    "        loss.backward()\n",
    "        optimizer.step()\n",
    "    if epoch % 10 == 0:\n",
    "        print(f'Epoch [{epoch + 1}/{num_epochs}], Loss: {loss.item():.4f}')\n",
    "end = datetime.now() # timing end\n",
    "\n",
    "print(f\"training finished in {end - start}, saving model\")\n",
    "torch.save(model.state_dict(), 'model_weights.pth')\n"
   ]
  },
  {
   "cell_type": "code",
   "execution_count": 74,
   "id": "5180bbea-45db-4e4f-b2cf-ca69599b8a12",
   "metadata": {},
   "outputs": [],
   "source": [
    "iterations = range(1, len(loss_errors) + 1)"
   ]
  },
  {
   "cell_type": "code",
   "execution_count": 75,
   "id": "f844bea0-332e-4fea-a36f-f5d1e4426c71",
   "metadata": {},
   "outputs": [],
   "source": [
    "# loss_errors = list(map(lambda x: x.detach().numpy(), loss_errors))\n",
    "# loss_errors = loss_errors.detach().numpy()"
   ]
  },
  {
   "cell_type": "code",
   "execution_count": 76,
   "id": "d569c511-ae08-4704-a134-dd93195ba5bb",
   "metadata": {},
   "outputs": [
    {
     "data": {
      "image/png": "[encoded data removed]",
      "text/plain": [
       "<Figure size 720x360 with 1 Axes>"
      ]
     },
     "metadata": {
      "needs_background": "light"
     },
     "output_type": "display_data"
    }
   ],
   "source": [
    "plt.figure(figsize=(10, 5))\n",
    "plt.plot(iterations, loss_errors, marker='o', linestyle='-')\n",
    "plt.title('Training Loss Curve')\n",
    "plt.xlabel('Training Iterations or Epochs')\n",
    "plt.ylabel('Loss')\n",
    "plt.grid(True)\n",
    "plt.show()"
   ]
  },
  {
   "cell_type": "markdown",
   "id": "96e5d3b7-b930-46cd-ae90-4bc6a08266c9",
   "metadata": {},
   "source": [
    "### Testing"
   ]
  },
  {
   "cell_type": "code",
   "execution_count": 77,
   "id": "4acf894c-cde5-4ac0-9dcd-316278328517",
   "metadata": {},
   "outputs": [
    {
     "data": {
      "text/plain": [
       "WaveForecastingRNN(\n",
       "  (rnn): LSTM(225, 64, batch_first=True)\n",
       "  (fc): Linear(in_features=64, out_features=3, bias=True)\n",
       ")"
      ]
     },
     "execution_count": 77,
     "metadata": {},
     "output_type": "execute_result"
    }
   ],
   "source": [
    "model = WaveForecastingRNN(input_size, hidden_size, num_layers, output_size)\n",
    "model.load_state_dict(torch.load('model_weights.pth'))\n",
    "model.eval()"
   ]
  },
  {
   "cell_type": "code",
   "execution_count": 78,
   "id": "8f9f99eb-a43c-49ce-a99c-085e8556449a",
   "metadata": {},
   "outputs": [
    {
     "data": {
      "text/plain": [
       "torch.Size([372, 3])"
      ]
     },
     "execution_count": 78,
     "metadata": {},
     "output_type": "execute_result"
    }
   ],
   "source": [
    "target_test.shape"
   ]
  },
  {
   "cell_type": "code",
   "execution_count": 79,
   "id": "5c49eb8a-987f-4dc2-8644-e9baa99dff9e",
   "metadata": {},
   "outputs": [],
   "source": [
    "datasettest, dataloadertest = buildTensor(data_test, target_test, batch_size = 1)"
   ]
  },
  {
   "cell_type": "code",
   "execution_count": 83,
   "id": "976bfa37-4a66-43eb-bb16-ac22191bd537",
   "metadata": {},
   "outputs": [
    {
     "name": "stdout",
     "output_type": "stream",
     "text": [
      "torch.Size([1, 240, 225])\n",
      "torch.Size([1, 240, 225])\n",
      "torch.Size([1, 240, 225])\n",
      "torch.Size([1, 240, 225])\n",
      "torch.Size([1, 240, 225])\n",
      "torch.Size([1, 240, 225])\n",
      "torch.Size([1, 240, 225])\n",
      "torch.Size([1, 240, 225])\n",
      "torch.Size([1, 240, 225])\n",
      "torch.Size([1, 240, 225])\n",
      "torch.Size([1, 240, 225])\n",
      "torch.Size([1, 240, 225])\n",
      "torch.Size([1, 240, 225])\n",
      "torch.Size([1, 240, 225])\n",
      "torch.Size([1, 240, 225])\n",
      "torch.Size([1, 240, 225])\n",
      "torch.Size([1, 240, 225])\n",
      "torch.Size([1, 240, 225])\n",
      "torch.Size([1, 240, 225])\n",
      "torch.Size([1, 240, 225])\n",
      "torch.Size([1, 240, 225])\n",
      "torch.Size([1, 240, 225])\n",
      "torch.Size([1, 240, 225])\n",
      "torch.Size([1, 240, 225])\n",
      "torch.Size([1, 240, 225])\n",
      "torch.Size([1, 240, 225])\n",
      "torch.Size([1, 240, 225])\n",
      "torch.Size([1, 240, 225])\n",
      "torch.Size([1, 240, 225])\n",
      "torch.Size([1, 240, 225])\n",
      "torch.Size([1, 240, 225])\n",
      "torch.Size([1, 240, 225])\n",
      "torch.Size([1, 240, 225])\n",
      "torch.Size([1, 240, 225])\n",
      "torch.Size([1, 240, 225])\n",
      "torch.Size([1, 240, 225])\n",
      "torch.Size([1, 240, 225])\n",
      "torch.Size([1, 240, 225])\n",
      "torch.Size([1, 240, 225])\n",
      "torch.Size([1, 240, 225])\n",
      "torch.Size([1, 240, 225])\n",
      "torch.Size([1, 240, 225])\n",
      "torch.Size([1, 240, 225])\n",
      "torch.Size([1, 240, 225])\n",
      "torch.Size([1, 240, 225])\n",
      "torch.Size([1, 240, 225])\n",
      "torch.Size([1, 240, 225])\n",
      "torch.Size([1, 240, 225])\n",
      "torch.Size([1, 240, 225])\n",
      "torch.Size([1, 240, 225])\n",
      "torch.Size([1, 240, 225])\n",
      "torch.Size([1, 240, 225])\n",
      "torch.Size([1, 240, 225])\n",
      "torch.Size([1, 240, 225])\n",
      "torch.Size([1, 240, 225])\n",
      "torch.Size([1, 240, 225])\n",
      "torch.Size([1, 240, 225])\n",
      "torch.Size([1, 240, 225])\n",
      "torch.Size([1, 240, 225])\n",
      "torch.Size([1, 240, 225])\n",
      "torch.Size([1, 240, 225])\n",
      "torch.Size([1, 240, 225])\n",
      "torch.Size([1, 240, 225])\n",
      "torch.Size([1, 240, 225])\n",
      "torch.Size([1, 240, 225])\n",
      "torch.Size([1, 240, 225])\n",
      "torch.Size([1, 240, 225])\n",
      "torch.Size([1, 240, 225])\n",
      "torch.Size([1, 240, 225])\n",
      "torch.Size([1, 240, 225])\n",
      "torch.Size([1, 240, 225])\n",
      "torch.Size([1, 240, 225])\n",
      "torch.Size([1, 240, 225])\n",
      "torch.Size([1, 240, 225])\n",
      "torch.Size([1, 240, 225])\n",
      "torch.Size([1, 240, 225])\n",
      "torch.Size([1, 240, 225])\n",
      "torch.Size([1, 240, 225])\n",
      "torch.Size([1, 240, 225])\n",
      "torch.Size([1, 240, 225])\n",
      "torch.Size([1, 240, 225])\n",
      "torch.Size([1, 240, 225])\n",
      "torch.Size([1, 240, 225])\n",
      "torch.Size([1, 240, 225])\n",
      "torch.Size([1, 240, 225])\n",
      "torch.Size([1, 240, 225])\n",
      "torch.Size([1, 240, 225])\n",
      "torch.Size([1, 240, 225])\n",
      "torch.Size([1, 240, 225])\n",
      "torch.Size([1, 240, 225])\n",
      "torch.Size([1, 240, 225])\n",
      "torch.Size([1, 240, 225])\n",
      "torch.Size([1, 240, 225])\n",
      "torch.Size([1, 240, 225])\n",
      "torch.Size([1, 240, 225])\n",
      "torch.Size([1, 240, 225])\n",
      "torch.Size([1, 240, 225])\n",
      "torch.Size([1, 240, 225])\n",
      "torch.Size([1, 240, 225])\n",
      "torch.Size([1, 240, 225])\n",
      "torch.Size([1, 240, 225])\n",
      "torch.Size([1, 240, 225])\n",
      "torch.Size([1, 240, 225])\n",
      "torch.Size([1, 240, 225])\n",
      "torch.Size([1, 240, 225])\n",
      "torch.Size([1, 240, 225])\n",
      "torch.Size([1, 240, 225])\n",
      "torch.Size([1, 240, 225])\n",
      "Average Test Loss: 13544.1735\n"
     ]
    }
   ],
   "source": [
    "test_loss = 0.0\n",
    "for inputs, targets in dataloadertest:\n",
    "    # Forward pass\n",
    "    print(inputs.shape)\n",
    "    outputs = model(inputs)\n",
    "    # print(\"outputs: \", outputs, \"\\n\", \"targets: \", targets, \"\\n\")\n",
    "    \n",
    "    # Compute loss\n",
    "    loss = criterion(outputs, targets)\n",
    "    # print(\"loss:  \", loss)\n",
    "    test_loss += loss.item()  # Accumulate the test loss\n",
    "\n",
    "# Calculate and print average test loss\n",
    "avg_test_loss = test_loss / len(dataloadertest)\n",
    "print(f'Average Test Loss: {avg_test_loss:.4f}')"
   ]
  },
  {
   "cell_type": "code",
   "execution_count": null,
   "id": "e633b0b1-3b54-4b35-86ae-451ecfc2abdc",
   "metadata": {},
   "outputs": [],
   "source": []
  }
 ],
 "metadata": {
  "kernelspec": {
   "display_name": "Python 3 (ipykernel)",
   "language": "python",
   "name": "python3"
  },
  "language_info": {
   "codemirror_mode": {
    "name": "ipython",
    "version": 3
   },
   "file_extension": ".py",
   "mimetype": "text/x-python",
   "name": "python",
   "nbconvert_exporter": "python",
   "pygments_lexer": "ipython3",
   "version": "3.9.7"
  }
 },
 "nbformat": 4,
 "nbformat_minor": 5
}
