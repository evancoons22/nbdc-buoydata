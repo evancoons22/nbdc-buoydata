{
 "cells": [
  {
   "cell_type": "markdown",
   "id": "0c80a809-f981-4cb0-b632-09dae392f333",
   "metadata": {},
   "source": [
    "## Training Model"
   ]
  },
  {
   "cell_type": "markdown",
   "id": "4fff6e31-41d4-4b5d-a598-24feee849417",
   "metadata": {},
   "source": [
    "### how can we predict multiple swell heights and directions? "
   ]
  },
  {
   "cell_type": "markdown",
   "id": "fce756f2-8a04-4801-937b-6ad5dd092aae",
   "metadata": {},
   "source": [
    "- each time stamp (every 30 minutes) has the dominant swell height. We want to predict this\n",
    "- for a 1 day prediction. get all the data as late as one day ago, and this is a data point with many dimensions. Maybe grab a snapshot of each buoy from \n",
    "- encode this into a large vector. Use WvHT (waveheight), MWD (main swell direction in degrees), ans SwP as prediction. \n",
    "- using a neural network is a good solution, because the data is high dimensional and non linear"
   ]
  },
  {
   "cell_type": "code",
   "execution_count": 2,
   "id": "c92f7baa-2f06-4644-bf10-1b9b75b926c1",
   "metadata": {},
   "outputs": [],
   "source": [
    "import torch\n",
    "import pandas as pd\n",
    "import sqlite3\n",
    "import numpy as np\n",
    "import functions\n",
    "\n",
    "import torch.nn as nn\n",
    "import torch.optim as optim\n",
    "from torch.utils.data import DataLoader, TensorDataset\n",
    "from matplotlib import pyplot as plt"
   ]
  },
  {
   "cell_type": "code",
   "execution_count": 39,
   "id": "1a921907-9b2d-4fa5-b3e1-6d29944da0b7",
   "metadata": {},
   "outputs": [
    {
     "name": "stdout",
     "output_type": "stream",
     "text": [
      "(1387, 76, 3)\n"
     ]
    }
   ],
   "source": [
    "conn = sqlite3.connect('db.db')\n",
    "data = pd.read_sql_query(\"SELECT * from main\", conn)\n",
    "data = functions.buildnparray(functions.cleanData(data))"
   ]
  },
  {
   "cell_type": "markdown",
   "id": "68e6dac7-2021-4d62-8739-e7dd08f56c93",
   "metadata": {},
   "source": [
    "### parameters and building data"
   ]
  },
  {
   "cell_type": "code",
   "execution_count": 62,
   "id": "0d714b81-59de-48eb-839d-35e74fffa131",
   "metadata": {},
   "outputs": [],
   "source": [
    "sequence_length = 24 * 10  # length of sequence, 24 hours * 10 days\n",
    "batch_size = 32      # Batch size for training\n",
    "num_epochs = 70      # Number of training epochs"
   ]
  },
  {
   "cell_type": "code",
   "execution_count": 56,
   "id": "634f93ba-7022-42cb-a076-508caa036861",
   "metadata": {},
   "outputs": [],
   "source": [
    "data_tensor = torch.Tensor(data) # convert to pytorch tensor\n",
    "\n",
    "data_tensor = torch.reshape(data_tensor, (data.shape[0], -1))\n",
    "nan_mask = torch.isnan(data_tensor)\n",
    "data_tensor[nan_mask] = 0"
   ]
  },
  {
   "cell_type": "code",
   "execution_count": 64,
   "id": "d32de409-4419-46d0-83f4-396be6007b41",
   "metadata": {},
   "outputs": [
    {
     "data": {
      "text/plain": [
       "torch.Size([1040, 228])"
      ]
     },
     "execution_count": 64,
     "metadata": {},
     "output_type": "execute_result"
    }
   ],
   "source": [
    "data_tensor.shape"
   ]
  },
  {
   "cell_type": "code",
   "execution_count": 58,
   "id": "e98c9a5d-83c8-41ff-a121-3bb50ba2c5d6",
   "metadata": {},
   "outputs": [],
   "source": [
    "data_test = data_tensor[int(len(data) * 0.75):, :]\n",
    "data_tensor = data_tensor[:int(len(data) * 0.75), :]"
   ]
  },
  {
   "cell_type": "code",
   "execution_count": 87,
   "id": "1ed42dda-e14a-467d-b10a-3bbb80d61eef",
   "metadata": {},
   "outputs": [
    {
     "data": {
      "text/plain": [
       "torch.Size([347, 228])"
      ]
     },
     "execution_count": 87,
     "metadata": {},
     "output_type": "execute_result"
    }
   ],
   "source": [
    "data_test.shape"
   ]
  },
  {
   "cell_type": "code",
   "execution_count": 66,
   "id": "0a360f53-0c36-4aa3-ba14-5db1ea3cb921",
   "metadata": {
    "tags": []
   },
   "outputs": [],
   "source": [
    "# Create input sequences and corresponding target values\n",
    "\n",
    "def buildTensor(data_tensor):\n",
    "    input_sequences = []\n",
    "    target_values = []\n",
    "\n",
    "    for i in range(len(data_tensor) - sequence_length):\n",
    "        input_seq = data_tensor[i:i+sequence_length]  \n",
    "        target_val = data_tensor[i+sequence_length] \n",
    "        input_sequences.append(input_seq)\n",
    "        target_values.append(target_val)\n",
    "    # print(\"input sequences\", input_sequences.shape)\n",
    "\n",
    "    input_sequences = torch.stack(input_sequences)\n",
    "    target_values = torch.stack(target_values)\n",
    "\n",
    "    dataset = TensorDataset(input_sequences, target_values)\n",
    "    dataloader = DataLoader(dataset, batch_size=batch_size, shuffle=True)\n",
    "    return (dataset, dataloader)\n",
    "\n",
    "dataset, dataloader = buildTensor(data_tensor)"
   ]
  },
  {
   "cell_type": "code",
   "execution_count": 67,
   "id": "563d303a-f814-4a8f-8089-66d37def936d",
   "metadata": {},
   "outputs": [],
   "source": [
    "class WaveForecastingRNN(nn.Module):\n",
    "    def __init__(self, input_size, hidden_size, num_layers, output_size):\n",
    "        super(WaveForecastingRNN, self).__init__()\n",
    "        # self.rnn = nn.RNN(input_size, hidden_size, num_layers, batch_first=True) # recurrent neural network\n",
    "        self.rnn = nn.LSTM(input_size, hidden_size, num_layers, batch_first=True) # long short term memory model\n",
    "        self.fc = nn.Linear(hidden_size, output_size) # fully connected layer\n",
    "\n",
    "    def forward(self, x):\n",
    "        out, _ = self.rnn(x)\n",
    "        out = self.fc(out[:, -1, :])  # Use the last time step's output for prediction\n",
    "        return out"
   ]
  },
  {
   "cell_type": "markdown",
   "id": "d8882cdc-a152-497f-a84c-d64a60b4a29d",
   "metadata": {},
   "source": [
    "### Training"
   ]
  },
  {
   "cell_type": "code",
   "execution_count": 75,
   "id": "d416862c-5700-41bc-ad8b-18d811162daf",
   "metadata": {},
   "outputs": [
    {
     "name": "stdout",
     "output_type": "stream",
     "text": [
      "beginning training\n",
      "Epoch [1/70], Loss: 15724.7656\n",
      "Epoch [11/70], Loss: 15298.8301\n",
      "Epoch [21/70], Loss: 14766.0947\n",
      "Epoch [31/70], Loss: 13337.8096\n",
      "Epoch [41/70], Loss: 12559.1836\n",
      "Epoch [51/70], Loss: 11601.1787\n",
      "Epoch [61/70], Loss: 10324.0918\n",
      "training finished, saving model\n"
     ]
    }
   ],
   "source": [
    "num_features = 228\n",
    "input_size = num_features\n",
    "hidden_size = 64\n",
    "num_layers = 1 \n",
    "output_size = num_features\n",
    "\n",
    "loss_errors = []\n",
    "\n",
    "model = WaveForecastingRNN(input_size, hidden_size, num_layers, output_size)\n",
    "\n",
    "# Define the loss function and optimizer\n",
    "criterion = nn.MSELoss()\n",
    "optimizer = optim.Adam(model.parameters(), lr=0.001)\n",
    "\n",
    "# Training loop\n",
    "print(f'beginning training')\n",
    "for epoch in range(num_epochs):\n",
    "    for inputs, targets in dataloader:\n",
    "        optimizer.zero_grad()\n",
    "        outputs = model(inputs)\n",
    "        loss = criterion(outputs, targets)\n",
    "        loss_errors.append(loss.item())\n",
    "        loss.backward()\n",
    "        optimizer.step()\n",
    "    if epoch % 10 == 0:\n",
    "        print(f'Epoch [{epoch + 1}/{num_epochs}], Loss: {loss.item():.4f}')\n",
    "print(\"training finished, saving model\")\n",
    "torch.save(model.state_dict(), 'model_weights.pth')\n"
   ]
  },
  {
   "cell_type": "code",
   "execution_count": 76,
   "id": "5180bbea-45db-4e4f-b2cf-ca69599b8a12",
   "metadata": {},
   "outputs": [],
   "source": [
    "iterations = range(1, len(loss_errors) + 1)"
   ]
  },
  {
   "cell_type": "code",
   "execution_count": 77,
   "id": "f844bea0-332e-4fea-a36f-f5d1e4426c71",
   "metadata": {},
   "outputs": [],
   "source": [
    "# loss_errors = list(map(lambda x: x.detach().numpy(), loss_errors))\n",
    "# loss_errors = loss_errors.detach().numpy()"
   ]
  },
  {
   "cell_type": "code",
   "execution_count": 78,
   "id": "d569c511-ae08-4704-a134-dd93195ba5bb",
   "metadata": {},
   "outputs": [
    {
     "data": {
      "image/png": "[encoded data removed]",
      "text/plain": [
       "<Figure size 720x360 with 1 Axes>"
      ]
     },
     "metadata": {
      "needs_background": "light"
     },
     "output_type": "display_data"
    }
   ],
   "source": [
    "plt.figure(figsize=(10, 5))\n",
    "plt.plot(iterations, loss_errors, marker='o', linestyle='-')\n",
    "plt.title('Training Loss Curve')\n",
    "plt.xlabel('Training Iterations or Epochs')\n",
    "plt.ylabel('Loss')\n",
    "plt.grid(True)\n",
    "plt.show()"
   ]
  },
  {
   "cell_type": "markdown",
   "id": "96e5d3b7-b930-46cd-ae90-4bc6a08266c9",
   "metadata": {},
   "source": [
    "### Testing"
   ]
  },
  {
   "cell_type": "code",
   "execution_count": 79,
   "id": "4acf894c-cde5-4ac0-9dcd-316278328517",
   "metadata": {},
   "outputs": [
    {
     "data": {
      "text/plain": [
       "WaveForecastingRNN(\n",
       "  (rnn): LSTM(228, 64, batch_first=True)\n",
       "  (fc): Linear(in_features=64, out_features=228, bias=True)\n",
       ")"
      ]
     },
     "execution_count": 79,
     "metadata": {},
     "output_type": "execute_result"
    }
   ],
   "source": [
    "model = WaveForecastingRNN(input_size, hidden_size, num_layers, output_size)\n",
    "model.load_state_dict(torch.load('model_weights.pth'))\n",
    "model.eval()"
   ]
  },
  {
   "cell_type": "code",
   "execution_count": 80,
   "id": "5c49eb8a-987f-4dc2-8644-e9baa99dff9e",
   "metadata": {},
   "outputs": [],
   "source": [
    "datasettrain, dataloadertrain = buildTensor(data_test)"
   ]
  },
  {
   "cell_type": "code",
   "execution_count": 92,
   "id": "976bfa37-4a66-43eb-bb16-ac22191bd537",
   "metadata": {},
   "outputs": [
    {
     "name": "stdout",
     "output_type": "stream",
     "text": [
      "outputs:  tensor([[ 6.2123, 52.7386,  2.1671,  ...,  6.7805, 51.9233,  0.9441],\n",
      "        [ 6.1875, 52.5710,  2.1525,  ...,  6.7545, 51.7637,  0.9342],\n",
      "        [ 6.2123, 52.7386,  2.1671,  ...,  6.7805, 51.9233,  0.9441],\n",
      "        ...,\n",
      "        [ 6.1874, 52.5707,  2.1524,  ...,  6.7544, 51.7634,  0.9342],\n",
      "        [ 6.1875, 52.5710,  2.1525,  ...,  6.7545, 51.7637,  0.9342],\n",
      "        [ 6.2124, 52.7387,  2.1671,  ...,  6.7805, 51.9234,  0.9441]],\n",
      "       grad_fn=<AddmmBackward0>) \n",
      " targets:  tensor([[  6.0000,  79.0000,   2.1000,  ...,   6.2500, 202.0000,   1.0000],\n",
      "        [  6.7000, 196.5000,   0.9000,  ...,   6.8500, 169.0000,   0.8000],\n",
      "        [  9.3500, 110.5000,   3.6500,  ...,   6.7000, 191.0000,   1.1500],\n",
      "        ...,\n",
      "        [  6.8500, 242.0000,   1.3000,  ...,   8.1500, 182.0000,   0.8500],\n",
      "        [  5.9500, 248.5000,   1.4000,  ...,   7.4000, 176.5000,   0.9000],\n",
      "        [  4.7500, 212.0000,   1.1000,  ...,   7.5000, 194.5000,   1.1500]]) \n",
      "\n",
      "loss:   tensor(9903.7324, grad_fn=<MseLossBackward0>)\n",
      "outputs:  tensor([[ 6.1874, 52.5707,  2.1524,  ...,  6.7544, 51.7634,  0.9342],\n",
      "        [ 6.1875, 52.5710,  2.1525,  ...,  6.7545, 51.7637,  0.9342],\n",
      "        [ 6.1875, 52.5710,  2.1525,  ...,  6.7545, 51.7637,  0.9342],\n",
      "        ...,\n",
      "        [ 6.2124, 52.7387,  2.1671,  ...,  6.7805, 51.9234,  0.9441],\n",
      "        [ 6.1875, 52.5710,  2.1525,  ...,  6.7545, 51.7637,  0.9342],\n",
      "        [ 6.1874, 52.5707,  2.1524,  ...,  6.7544, 51.7634,  0.9342]],\n",
      "       grad_fn=<AddmmBackward0>) \n",
      " targets:  tensor([[  8.0000, 232.5000,   1.5500,  ...,   8.2500, 181.0000,   0.9000],\n",
      "        [  6.2000, 230.0000,   0.9000,  ...,   6.8000, 169.5000,   0.8000],\n",
      "        [  6.0000, 235.5000,   2.0000,  ...,   7.7000, 178.0000,   0.7500],\n",
      "        ...,\n",
      "        [  5.9000, 101.0000,   1.7000,  ...,   7.2000, 201.0000,   1.1000],\n",
      "        [  5.7000, 232.5000,   1.8000,  ...,   6.7000, 180.5000,   0.8500],\n",
      "        [  6.2500, 245.5000,   1.0000,  ...,   6.8500, 189.0000,   0.9000]]) \n",
      "\n",
      "loss:   tensor(9747.1670, grad_fn=<MseLossBackward0>)\n",
      "outputs:  tensor([[ 6.2124, 52.7387,  2.1671,  ...,  6.7805, 51.9234,  0.9441],\n",
      "        [ 6.1875, 52.5710,  2.1525,  ...,  6.7545, 51.7637,  0.9342],\n",
      "        [ 6.1875, 52.5710,  2.1525,  ...,  6.7545, 51.7637,  0.9342],\n",
      "        ...,\n",
      "        [ 6.1875, 52.5710,  2.1525,  ...,  6.7545, 51.7637,  0.9342],\n",
      "        [ 6.1875, 52.5710,  2.1525,  ...,  6.7545, 51.7637,  0.9342],\n",
      "        [ 6.2124, 52.7387,  2.1671,  ...,  6.7805, 51.9234,  0.9441]],\n",
      "       grad_fn=<AddmmBackward0>) \n",
      " targets:  tensor([[  5.2500, 227.5000,   1.1500,  ...,   6.1000, 191.0000,   1.1500],\n",
      "        [  7.0500, 223.5000,   1.2000,  ...,   6.4500, 189.0000,   0.9000],\n",
      "        [  5.8000, 245.0000,   1.6500,  ...,   6.3000, 182.5000,   0.8000],\n",
      "        ...,\n",
      "        [  6.8000, 243.0000,   2.1500,  ...,   7.4000, 176.0000,   0.8000],\n",
      "        [  6.0500, 205.0000,   1.0000,  ...,   7.1500, 177.5000,   0.7500],\n",
      "        [  6.1000, 237.0000,   1.1500,  ...,   6.5000, 214.5000,   1.1000]]) \n",
      "\n",
      "loss:   tensor(9687.8750, grad_fn=<MseLossBackward0>)\n",
      "outputs:  tensor([[ 6.2124, 52.7387,  2.1671,  ...,  6.7805, 51.9234,  0.9441],\n",
      "        [ 6.1875, 52.5710,  2.1525,  ...,  6.7545, 51.7637,  0.9342],\n",
      "        [ 6.1874, 52.5707,  2.1524,  ...,  6.7544, 51.7634,  0.9342],\n",
      "        ...,\n",
      "        [ 6.1875, 52.5710,  2.1525,  ...,  6.7545, 51.7637,  0.9342],\n",
      "        [ 6.1875, 52.5710,  2.1525,  ...,  6.7545, 51.7637,  0.9342],\n",
      "        [ 6.2124, 52.7387,  2.1671,  ...,  6.7805, 51.9234,  0.9441]],\n",
      "       grad_fn=<AddmmBackward0>) \n",
      " targets:  tensor([[  5.2500,  93.5000,   1.4500,  ...,   6.9000, 205.5000,   1.1500],\n",
      "        [  6.7500, 231.5000,   1.3500,  ...,   6.2000, 192.0000,   0.9500],\n",
      "        [  7.4500, 238.5000,   1.4500,  ...,   8.2000, 178.5000,   0.8000],\n",
      "        ...,\n",
      "        [  7.0000, 243.5000,   2.3500,  ...,   6.8500, 165.0000,   0.8000],\n",
      "        [  8.1000, 241.0000,   1.2000,  ...,   7.2500, 186.0000,   0.8500],\n",
      "        [  4.9500, 247.0000,   1.1000,  ...,   7.0500, 195.0000,   1.1000]]) \n",
      "\n",
      "loss:   tensor(9871.9561, grad_fn=<MseLossBackward0>)\n",
      "Average Test Loss: 9802.6826\n"
     ]
    }
   ],
   "source": [
    "test_loss = 0.0\n",
    "for inputs, targets in dataloadertrain:\n",
    "    # Forward pass\n",
    "    outputs = model(inputs)\n",
    "    print(\"outputs: \", outputs, \"\\n\", \"targets: \", targets, \"\\n\")\n",
    "    \n",
    "    # Compute loss\n",
    "    loss = criterion(outputs, targets)\n",
    "    print(\"loss:  \", loss)\n",
    "    test_loss += loss.item()  # Accumulate the test loss\n",
    "\n",
    "# Calculate and print average test loss\n",
    "avg_test_loss = test_loss / len(dataloadertrain)\n",
    "print(f'Average Test Loss: {avg_test_loss:.4f}')"
   ]
  },
  {
   "cell_type": "code",
   "execution_count": null,
   "id": "427875a5-13ec-423f-8c79-dcc44a443112",
   "metadata": {},
   "outputs": [],
   "source": []
  }
 ],
 "metadata": {
  "kernelspec": {
   "display_name": "Python 3 (ipykernel)",
   "language": "python",
   "name": "python3"
  },
  "language_info": {
   "codemirror_mode": {
    "name": "ipython",
    "version": 3
   },
   "file_extension": ".py",
   "mimetype": "text/x-python",
   "name": "python",
   "nbconvert_exporter": "python",
   "pygments_lexer": "ipython3",
   "version": "3.9.7"
  }
 },
 "nbformat": 4,
 "nbformat_minor": 5
}
