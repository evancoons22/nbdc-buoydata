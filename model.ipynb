{
 "cells": [
  {
   "cell_type": "markdown",
   "id": "0c80a809-f981-4cb0-b632-09dae392f333",
   "metadata": {},
   "source": [
    "## Training Model"
   ]
  },
  {
   "cell_type": "markdown",
   "id": "4fff6e31-41d4-4b5d-a598-24feee849417",
   "metadata": {},
   "source": [
    "### how can we predict multiple swell heights and directions? "
   ]
  },
  {
   "cell_type": "markdown",
   "id": "fce756f2-8a04-4801-937b-6ad5dd092aae",
   "metadata": {},
   "source": [
    "- each time stamp (every 30 minutes) has the dominant swell height. We want to predict this\n",
    "- for a 1 day prediction. get all the data as late as one day ago, and this is a data point with many dimensions. Maybe grab a snapshot of each buoy from \n",
    "- encode this into a large vector. Use WvHT (waveheight), MWD (main swell direction in degrees), ans SwP as prediction. \n",
    "- put this in a neural network because this will be non linear and high dimensional"
   ]
  },
  {
   "cell_type": "code",
   "execution_count": 1,
   "id": "c92f7baa-2f06-4644-bf10-1b9b75b926c1",
   "metadata": {},
   "outputs": [],
   "source": [
    "import torch\n",
    "import pandas as pd\n",
    "import sqlite3\n",
    "import numpy as np\n",
    "import functions\n",
    "\n",
    "import torch.nn as nn\n",
    "import torch.optim as optim\n",
    "from torch.utils.data import DataLoader, TensorDataset\n",
    "from matplotlib import pyplot as plt"
   ]
  },
  {
   "cell_type": "code",
   "execution_count": 2,
   "id": "1a921907-9b2d-4fa5-b3e1-6d29944da0b7",
   "metadata": {},
   "outputs": [
    {
     "name": "stdout",
     "output_type": "stream",
     "text": [
      "(1346, 76, 3)\n"
     ]
    }
   ],
   "source": [
    "conn = sqlite3.connect('db.db')\n",
    "data = pd.read_sql_query(\"SELECT * from main\", conn)\n",
    "data = functions.buildnparray(functions.cleanData(data))"
   ]
  },
  {
   "cell_type": "markdown",
   "id": "68e6dac7-2021-4d62-8739-e7dd08f56c93",
   "metadata": {},
   "source": [
    "### parameters"
   ]
  },
  {
   "cell_type": "code",
   "execution_count": 10,
   "id": "0d714b81-59de-48eb-839d-35e74fffa131",
   "metadata": {},
   "outputs": [],
   "source": [
    "sequence_length = 24 * 10  # length of sequence, 24 hours * 10 days\n",
    "batch_size = 32      # Batch size for training\n",
    "num_epochs = 70      # Number of training epochs"
   ]
  },
  {
   "cell_type": "code",
   "execution_count": 4,
   "id": "634f93ba-7022-42cb-a076-508caa036861",
   "metadata": {},
   "outputs": [],
   "source": [
    "data_tensor = torch.Tensor(data) # convert to pytorch tensor\n",
    "\n",
    "data_tensor = torch.reshape(data_tensor, (-1, 3))\n",
    "nan_mask = torch.isnan(data_tensor)\n",
    "data_tensor[nan_mask] = 0"
   ]
  },
  {
   "cell_type": "code",
   "execution_count": 5,
   "id": "0a360f53-0c36-4aa3-ba14-5db1ea3cb921",
   "metadata": {},
   "outputs": [],
   "source": [
    "# Create input sequences and corresponding target values\n",
    "input_sequences = []\n",
    "target_values = []\n",
    "\n",
    "for i in range(len(data) - sequence_length):\n",
    "    input_seq = data_tensor[i:i+sequence_length]  \n",
    "    target_val = data_tensor[i+sequence_length] \n",
    "    input_sequences.append(input_seq)\n",
    "    target_values.append(target_val)\n",
    "# print(\"input sequences\", input_sequences.shape)\n",
    "\n",
    "input_sequences = torch.stack(input_sequences)\n",
    "target_values = torch.stack(target_values)\n",
    "\n",
    "dataset = TensorDataset(input_sequences, target_values)\n",
    "dataloader = DataLoader(dataset, batch_size=batch_size, shuffle=True)"
   ]
  },
  {
   "cell_type": "code",
   "execution_count": 6,
   "id": "563d303a-f814-4a8f-8089-66d37def936d",
   "metadata": {},
   "outputs": [],
   "source": [
    "class WaveForecastingRNN(nn.Module):\n",
    "    def __init__(self, input_size, hidden_size, num_layers, output_size):\n",
    "        super(WaveForecastingRNN, self).__init__()\n",
    "        # self.rnn = nn.RNN(input_size, hidden_size, num_layers, batch_first=True) # recurrent neural network\n",
    "        self.rnn = nn.LSTM(input_size, hidden_size, num_layers, batch_first=True) # long short term memory model\n",
    "        self.fc = nn.Linear(hidden_size, output_size) # fully connected layer\n",
    "\n",
    "    def forward(self, x):\n",
    "        out, _ = self.rnn(x)\n",
    "        out = self.fc(out[:, -1, :])  # Use the last time step's output for prediction\n",
    "        return out"
   ]
  },
  {
   "cell_type": "code",
   "execution_count": 36,
   "id": "fd142ae4-955c-47dc-9187-a37048ca156f",
   "metadata": {},
   "outputs": [],
   "source": [
    "loss_errors = []"
   ]
  },
  {
   "cell_type": "code",
   "execution_count": 37,
   "id": "d416862c-5700-41bc-ad8b-18d811162daf",
   "metadata": {},
   "outputs": [
    {
     "name": "stdout",
     "output_type": "stream",
     "text": [
      "Epoch [1/70], Loss: 22316.3516\n",
      "Epoch [2/70], Loss: 15855.3232\n",
      "Epoch [3/70], Loss: 18788.8164\n",
      "Epoch [4/70], Loss: 22861.9199\n",
      "Epoch [5/70], Loss: 18062.7207\n",
      "Epoch [6/70], Loss: 15652.2852\n",
      "Epoch [7/70], Loss: 8621.2461\n",
      "Epoch [8/70], Loss: 12161.7549\n",
      "Epoch [9/70], Loss: 15417.0977\n",
      "Epoch [10/70], Loss: 13290.4375\n",
      "Epoch [11/70], Loss: 15782.1562\n",
      "Epoch [12/70], Loss: 12963.9834\n",
      "Epoch [13/70], Loss: 10802.8799\n",
      "Epoch [14/70], Loss: 14929.9893\n",
      "Epoch [15/70], Loss: 18010.0957\n",
      "Epoch [16/70], Loss: 15281.8838\n",
      "Epoch [17/70], Loss: 11761.3574\n",
      "Epoch [18/70], Loss: 15351.1270\n",
      "Epoch [19/70], Loss: 13076.4102\n",
      "Epoch [20/70], Loss: 10261.7334\n",
      "Epoch [21/70], Loss: 10802.5186\n",
      "Epoch [22/70], Loss: 14226.4414\n",
      "Epoch [23/70], Loss: 14856.4668\n",
      "Epoch [24/70], Loss: 12138.3975\n",
      "Epoch [25/70], Loss: 9857.8682\n",
      "Epoch [26/70], Loss: 9402.1826\n",
      "Epoch [27/70], Loss: 7959.6182\n",
      "Epoch [28/70], Loss: 10125.8555\n",
      "Epoch [29/70], Loss: 11030.7051\n",
      "Epoch [30/70], Loss: 9110.7451\n",
      "Epoch [31/70], Loss: 10528.9004\n",
      "Epoch [32/70], Loss: 7397.7446\n",
      "Epoch [33/70], Loss: 12659.3750\n",
      "Epoch [34/70], Loss: 9637.4609\n",
      "Epoch [35/70], Loss: 8999.4863\n",
      "Epoch [36/70], Loss: 7838.6255\n",
      "Epoch [37/70], Loss: 6483.7002\n",
      "Epoch [38/70], Loss: 9849.7383\n",
      "Epoch [39/70], Loss: 8113.5273\n",
      "Epoch [40/70], Loss: 9329.1172\n",
      "Epoch [41/70], Loss: 10575.3564\n",
      "Epoch [42/70], Loss: 8676.9863\n",
      "Epoch [43/70], Loss: 10322.7178\n",
      "Epoch [44/70], Loss: 6274.2026\n",
      "Epoch [45/70], Loss: 8405.0420\n",
      "Epoch [46/70], Loss: 6878.9746\n",
      "Epoch [47/70], Loss: 7106.1836\n",
      "Epoch [48/70], Loss: 7447.0967\n",
      "Epoch [49/70], Loss: 8107.9399\n",
      "Epoch [50/70], Loss: 6045.6631\n",
      "Epoch [51/70], Loss: 7562.9097\n",
      "Epoch [52/70], Loss: 4856.2456\n",
      "Epoch [53/70], Loss: 7266.6646\n",
      "Epoch [54/70], Loss: 4983.3345\n",
      "Epoch [55/70], Loss: 7675.5020\n",
      "Epoch [56/70], Loss: 5070.0156\n",
      "Epoch [57/70], Loss: 5214.7441\n",
      "Epoch [58/70], Loss: 5852.5571\n",
      "Epoch [59/70], Loss: 5693.5186\n",
      "Epoch [60/70], Loss: 2819.0276\n",
      "Epoch [61/70], Loss: 5627.5771\n",
      "Epoch [62/70], Loss: 7867.8237\n",
      "Epoch [63/70], Loss: 5282.9507\n",
      "Epoch [64/70], Loss: 4294.4097\n",
      "Epoch [65/70], Loss: 4553.2285\n",
      "Epoch [66/70], Loss: 6315.1064\n",
      "Epoch [67/70], Loss: 5439.6689\n",
      "Epoch [68/70], Loss: 7388.1431\n",
      "Epoch [69/70], Loss: 6424.9414\n",
      "Epoch [70/70], Loss: 4443.4048\n"
     ]
    }
   ],
   "source": [
    "num_features = 3\n",
    "input_size = num_features\n",
    "hidden_size = 64\n",
    "num_layers = 1 \n",
    "output_size = num_features\n",
    "\n",
    "model = WaveForecastingRNN(input_size, hidden_size, num_layers, output_size)\n",
    "\n",
    "# Define the loss function and optimizer\n",
    "criterion = nn.MSELoss()\n",
    "optimizer = optim.Adam(model.parameters(), lr=0.001)\n",
    "\n",
    "# Training loop\n",
    "for epoch in range(num_epochs):\n",
    "    for inputs, targets in dataloader:\n",
    "        optimizer.zero_grad()\n",
    "        outputs = model(inputs)\n",
    "        loss = criterion(outputs, targets)\n",
    "        loss_errors.append(loss.item())\n",
    "        loss.backward()\n",
    "        optimizer.step()\n",
    "    print(f'Epoch [{epoch + 1}/{num_epochs}], Loss: {loss.item():.4f}')\n",
    "\n",
    "torch.save(model.state_dict(), 'model_weights.pth')\n"
   ]
  },
  {
   "cell_type": "code",
   "execution_count": 38,
   "id": "5180bbea-45db-4e4f-b2cf-ca69599b8a12",
   "metadata": {},
   "outputs": [],
   "source": [
    "iterations = range(1, len(loss_errors) + 1)"
   ]
  },
  {
   "cell_type": "code",
   "execution_count": 41,
   "id": "f844bea0-332e-4fea-a36f-f5d1e4426c71",
   "metadata": {},
   "outputs": [],
   "source": [
    "# loss_errors = list(map(lambda x: x.detach().numpy(), loss_errors))\n",
    "# loss_errors = loss_errors.detach().numpy()"
   ]
  },
  {
   "cell_type": "code",
   "execution_count": 42,
   "id": "d569c511-ae08-4704-a134-dd93195ba5bb",
   "metadata": {},
   "outputs": [
    {
     "data": {
      "image/png": "[encoded data removed]",
      "text/plain": [
       "<Figure size 720x360 with 1 Axes>"
      ]
     },
     "metadata": {
      "needs_background": "light"
     },
     "output_type": "display_data"
    }
   ],
   "source": [
    "plt.figure(figsize=(10, 5))\n",
    "plt.plot(iterations, loss_errors, marker='o', linestyle='-')\n",
    "plt.title('Training Loss Curve')\n",
    "plt.xlabel('Training Iterations or Epochs')\n",
    "plt.ylabel('Loss')\n",
    "plt.grid(True)\n",
    "plt.show()"
   ]
  },
  {
   "cell_type": "code",
   "execution_count": null,
   "id": "abdcc89e-79d9-4711-a4ef-39a07bb113ad",
   "metadata": {},
   "outputs": [],
   "source": []
  }
 ],
 "metadata": {
  "kernelspec": {
   "display_name": "Python 3 (ipykernel)",
   "language": "python",
   "name": "python3"
  },
  "language_info": {
   "codemirror_mode": {
    "name": "ipython",
    "version": 3
   },
   "file_extension": ".py",
   "mimetype": "text/x-python",
   "name": "python",
   "nbconvert_exporter": "python",
   "pygments_lexer": "ipython3",
   "version": "3.9.7"
  }
 },
 "nbformat": 4,
 "nbformat_minor": 5
}
