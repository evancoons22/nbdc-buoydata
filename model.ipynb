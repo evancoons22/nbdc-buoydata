{
 "cells": [
  {
   "cell_type": "code",
   "execution_count": 18,
   "id": "fda7165d-d24d-440a-97be-6f90694d9752",
   "metadata": {},
   "outputs": [],
   "source": [
    "import torch\n",
    "import sqlite3\n",
    "import pandas as pd"
   ]
  },
  {
   "cell_type": "code",
   "execution_count": 19,
   "id": "c0622435-6110-4f22-ae31-a0626ad14ceb",
   "metadata": {},
   "outputs": [],
   "source": [
    "conn = sqlite3.connect('db.db')\n",
    "data = pd.read_sql_query(\"SELECT * from main\", conn)"
   ]
  },
  {
   "cell_type": "markdown",
   "id": "4fff6e31-41d4-4b5d-a598-24feee849417",
   "metadata": {},
   "source": [
    "### how can we predict multiple swell heights and directions? "
   ]
  },
  {
   "cell_type": "markdown",
   "id": "fce756f2-8a04-4801-937b-6ad5dd092aae",
   "metadata": {},
   "source": [
    "- each time stamp (every 30 minutes) has the dominant swell height. We want to predict this\n",
    "- for a 1 day prediction. get all the data as late as one day ago, and this is a data point with many dimensions. Maybe grab a snapshot of each buoy from \n",
    "- encode this into a large vector. Use WvHT (waveheight), MWD (main swell direction in degrees), ans SwP as prediction. \n",
    "- put this in a neural network because this will be non linear and high dimensional"
   ]
  },
  {
   "cell_type": "markdown",
   "id": "4896e5d9-a322-42cb-88c0-68479185b5a5",
   "metadata": {},
   "source": [
    "### parsing data and building model"
   ]
  },
  {
   "cell_type": "code",
   "execution_count": null,
   "id": "d416862c-5700-41bc-ad8b-18d811162daf",
   "metadata": {},
   "outputs": [],
   "source": []
  }
 ],
 "metadata": {
  "kernelspec": {
   "display_name": "Python 3 (ipykernel)",
   "language": "python",
   "name": "python3"
  },
  "language_info": {
   "codemirror_mode": {
    "name": "ipython",
    "version": 3
   },
   "file_extension": ".py",
   "mimetype": "text/x-python",
   "name": "python",
   "nbconvert_exporter": "python",
   "pygments_lexer": "ipython3",
   "version": "3.9.7"
  }
 },
 "nbformat": 4,
 "nbformat_minor": 5
}
