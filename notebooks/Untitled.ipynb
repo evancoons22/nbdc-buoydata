{
 "cells": [
  {
   "cell_type": "code",
   "execution_count": 2,
   "id": "1e7eb71f-1260-4221-a1b2-2806b7e16b2f",
   "metadata": {},
   "outputs": [],
   "source": [
    "import requests\n",
    "import pandas as pd\n",
    "from bs4 import BeautifulSoup"
   ]
  },
  {
   "cell_type": "code",
   "execution_count": 3,
   "id": "7c674133-d81f-4e77-9342-9ca802c8d99d",
   "metadata": {},
   "outputs": [
    {
     "name": "stdout",
     "output_type": "stream",
     "text": [
      "None\n"
     ]
    }
   ],
   "source": [
    "response = requests.get('https://www.surfline.com/surf-report/el-porto/5842041f4e65fad6a7708906?camId=5a203892096c27001ac4f18d')\n",
    "soup = BeautifulSoup(response.text, 'html.parser').b\n",
    "# element = soup.select_one('.mui-style-qfj0fo')\n",
    "# element = soup.find(class_='.mui-style-qfj0fo')\n",
    "# print(element)\n",
    "print(soup)"
   ]
  },
  {
   "cell_type": "code",
   "execution_count": 4,
   "id": "f47a9bc5-aecf-4026-8309-3e78b8075813",
   "metadata": {},
   "outputs": [
    {
     "name": "stdout",
     "output_type": "stream",
     "text": [
      "<Response [403]>\n"
     ]
    }
   ],
   "source": [
    "print(response)"
   ]
  },
  {
   "cell_type": "code",
   "execution_count": null,
   "id": "9f799e92-acfd-45c1-aca7-2dff02b2699a",
   "metadata": {},
   "outputs": [],
   "source": []
  }
 ],
 "metadata": {
  "kernelspec": {
   "display_name": "Python 3 (ipykernel)",
   "language": "python",
   "name": "python3"
  },
  "language_info": {
   "codemirror_mode": {
    "name": "ipython",
    "version": 3
   },
   "file_extension": ".py",
   "mimetype": "text/x-python",
   "name": "python",
   "nbconvert_exporter": "python",
   "pygments_lexer": "ipython3",
   "version": "3.9.7"
  }
 },
 "nbformat": 4,
 "nbformat_minor": 5
}
