{
 "cells": [
  {
   "cell_type": "markdown",
   "id": "3855ae63-673c-4d14-a961-66728910af61",
   "metadata": {},
   "source": [
    "### nbdc data"
   ]
  },
  {
   "cell_type": "code",
   "execution_count": 1,
   "id": "242e28f2-c07f-40a7-a4e7-c4816c907b0f",
   "metadata": {},
   "outputs": [],
   "source": [
    "import requests\n",
    "import pandas as pd\n",
    "import numpy as np"
   ]
  },
  {
   "cell_type": "markdown",
   "id": "fce0bf47-d42a-400c-94b0-bac6d77edc45",
   "metadata": {
    "tags": []
   },
   "source": [
    "### get all relevant buoys"
   ]
  },
  {
   "cell_type": "code",
   "execution_count": 26,
   "id": "d0fde02f-47ae-4677-bdcd-a7f3fe590c79",
   "metadata": {},
   "outputs": [],
   "source": [
    "text_data = requests.get('https://www.ndbc.noaa.gov/data/stations/station_table.txt').text\n",
    "rows = text_data.strip().split('\\n')\n",
    "\n",
    "# extracting headers\n",
    "headers = map(lambda x: x.strip(), rows[0].strip().split('|'))\n",
    "\n",
    "# remaining data. (skipping with only `#`)\n",
    "data = [row.strip().split('|') for row in rows[2:]]\n",
    "\n",
    "df_buoys = pd.DataFrame(data, columns = headers)"
   ]
  },
  {
   "cell_type": "markdown",
   "id": "663f9a1c-2c52-4670-ba66-e0b566fadce9",
   "metadata": {},
   "source": [
    "### Get buoy data"
   ]
  },
  {
   "cell_type": "code",
   "execution_count": 92,
   "id": "93df4027-b661-436d-a874-6e7269fbd8ac",
   "metadata": {
    "tags": []
   },
   "outputs": [],
   "source": [
    "def getBuoyData(buoyid): \n",
    "    # Split the text into rows using newline characters\n",
    "    try: \n",
    "        rows = requests.get(f'https://www.ndbc.noaa.gov/data/realtime2/{buoyid}.spec')\n",
    "        response.raise_for_status()\n",
    "        rows = rows.text.strip().split('\\n')\n",
    "        print(\"success fetching this data\")\n",
    "    except: \n",
    "        raise(\"error fetching this data\")\n",
    "    # get headers, then the rest of the data\n",
    "    headers = rows[0].strip().split()\n",
    "    data = [row.split() for row in rows[1:]]\n",
    "\n",
    "    df_buoy_data = pd.DataFrame(data, columns=headers)\n",
    "    return df_buoy_data"
   ]
  },
  {
   "cell_type": "code",
   "execution_count": 93,
   "id": "1dbace31-78c4-4ad7-b5ce-18eb04e6a710",
   "metadata": {},
   "outputs": [
    {
     "ename": "TypeError",
     "evalue": "exceptions must derive from BaseException",
     "output_type": "error",
     "traceback": [
      "\u001b[0;31m---------------------------------------------------------------------------\u001b[0m",
      "\u001b[0;31mNameError\u001b[0m                                 Traceback (most recent call last)",
      "Input \u001b[0;32mIn [92]\u001b[0m, in \u001b[0;36mgetBuoyData\u001b[0;34m(buoyid)\u001b[0m\n\u001b[1;32m      4\u001b[0m rows \u001b[38;5;241m=\u001b[39m requests\u001b[38;5;241m.\u001b[39mget(\u001b[38;5;124mf\u001b[39m\u001b[38;5;124m'\u001b[39m\u001b[38;5;124mhttps://www.ndbc.noaa.gov/data/realtime2/\u001b[39m\u001b[38;5;132;01m{\u001b[39;00mbuoyid\u001b[38;5;132;01m}\u001b[39;00m\u001b[38;5;124m.spec\u001b[39m\u001b[38;5;124m'\u001b[39m)\n\u001b[0;32m----> 5\u001b[0m \u001b[43mresponse\u001b[49m\u001b[38;5;241m.\u001b[39mraise_for_status()\n\u001b[1;32m      6\u001b[0m rows \u001b[38;5;241m=\u001b[39m rows\u001b[38;5;241m.\u001b[39mtext\u001b[38;5;241m.\u001b[39mstrip()\u001b[38;5;241m.\u001b[39msplit(\u001b[38;5;124m'\u001b[39m\u001b[38;5;130;01m\\n\u001b[39;00m\u001b[38;5;124m'\u001b[39m)\n",
      "\u001b[0;31mNameError\u001b[0m: name 'response' is not defined",
      "\nDuring handling of the above exception, another exception occurred:\n",
      "\u001b[0;31mTypeError\u001b[0m                                 Traceback (most recent call last)",
      "Input \u001b[0;32mIn [93]\u001b[0m, in \u001b[0;36m<cell line: 1>\u001b[0;34m()\u001b[0m\n\u001b[0;32m----> 1\u001b[0m \u001b[43mgetBuoyData\u001b[49m\u001b[43m(\u001b[49m\u001b[38;5;241;43m13001\u001b[39;49m\u001b[43m)\u001b[49m\n",
      "Input \u001b[0;32mIn [92]\u001b[0m, in \u001b[0;36mgetBuoyData\u001b[0;34m(buoyid)\u001b[0m\n\u001b[1;32m      7\u001b[0m     \u001b[38;5;28mprint\u001b[39m(\u001b[38;5;124m\"\u001b[39m\u001b[38;5;124msuccess fetching this data\u001b[39m\u001b[38;5;124m\"\u001b[39m)\n\u001b[1;32m      8\u001b[0m \u001b[38;5;28;01mexcept\u001b[39;00m: \n\u001b[0;32m----> 9\u001b[0m     \u001b[38;5;28;01mraise\u001b[39;00m(\u001b[38;5;124m\"\u001b[39m\u001b[38;5;124merror fetching this data\u001b[39m\u001b[38;5;124m\"\u001b[39m)\n\u001b[1;32m     10\u001b[0m \u001b[38;5;66;03m# get headers, then the rest of the data\u001b[39;00m\n\u001b[1;32m     11\u001b[0m headers \u001b[38;5;241m=\u001b[39m rows[\u001b[38;5;241m0\u001b[39m]\u001b[38;5;241m.\u001b[39mstrip()\u001b[38;5;241m.\u001b[39msplit()\n",
      "\u001b[0;31mTypeError\u001b[0m: exceptions must derive from BaseException"
     ]
    }
   ],
   "source": [
    "getBuoyData(13001)"
   ]
  },
  {
   "cell_type": "markdown",
   "id": "c9838341-77a2-45fd-bf94-d9530359ddef",
   "metadata": {},
   "source": [
    "### Calculate that buoy's angle to Los Angeles"
   ]
  },
  {
   "cell_type": "markdown",
   "id": "b5713cae-027e-4744-9bbd-9a606c5d3690",
   "metadata": {},
   "source": [
    "Swell direction is measured with north at 0 degrees, east at 90, etc. "
   ]
  },
  {
   "cell_type": "code",
   "execution_count": 4,
   "id": "e7a069e5-ac89-45a2-bf74-f02b0f33db7a",
   "metadata": {},
   "outputs": [],
   "source": [
    "import math\n",
    "import re"
   ]
  },
  {
   "cell_type": "code",
   "execution_count": 21,
   "id": "fe156df5-75fb-4d2f-b76c-ce1dad5848ef",
   "metadata": {},
   "outputs": [],
   "source": [
    "LA_lat = 33.8847\n",
    "LA_long = -118.4109\n",
    "\n",
    "def calculate_angle(coords):\n",
    "    buoylat, buoylong = parse_coordinates(coords) if isinstance(coords, str) else coords\n",
    "    LA_lat = 33.8847\n",
    "    LA_long = -118.4109\n",
    "    x = buoylong - LA_long\n",
    "    y = buoylat - LA_lat\n",
    "    \n",
    "    if x >= 0:\n",
    "        return 90 - math.atan(y / x) * 180 / math.pi \n",
    "    elif x < 0: \n",
    "        return 270 - math.atan(y / x) * 180 / math.pi\n",
    "    \n",
    "    #return math.atan(y / x) * 180 / math.pi\n",
    "    \n",
    "    \n",
    "def parse_coordinates(input_string):\n",
    "    pattern = r'(\\d+\\.\\d+)\\s*([NS])\\s*(\\d+\\.\\d+)\\s*([EW])'\n",
    "    match = re.search(pattern, input_string)\n",
    "    if match:\n",
    "        latitude = float(match.group(1))\n",
    "        if match.group(2) == 'S':\n",
    "            latitude = -latitude\n",
    "        \n",
    "        longitude = float(match.group(3))\n",
    "        if match.group(4) == 'W':\n",
    "            longitude = -longitude\n",
    "        \n",
    "        return latitude, longitude\n",
    "    else:\n",
    "        return None\n",
    "    "
   ]
  },
  {
   "cell_type": "code",
   "execution_count": 22,
   "id": "5e87b980-8f67-4e78-9410-301e018333ab",
   "metadata": {},
   "outputs": [],
   "source": [
    "df_buoys['angletoLA'] = df_buoys.apply(lambda row: calculate_angle(row.LOCATION), axis = 1)"
   ]
  },
  {
   "cell_type": "markdown",
   "id": "e8a32e17-c2b6-4e04-858c-bc6f096ac30a",
   "metadata": {},
   "source": [
    "### Get all valid buoys -- request all the data for those buoys!!"
   ]
  },
  {
   "cell_type": "markdown",
   "id": "f9ce48f6-cd24-4cc6-b6b4-ff788c342dd9",
   "metadata": {},
   "source": [
    "Buoys in between angle 160 and less than 360. longitude less than 0. "
   ]
  },
  {
   "cell_type": "code",
   "execution_count": 81,
   "id": "b9116f36-6bf3-484a-bb7c-c792f509f0a3",
   "metadata": {},
   "outputs": [],
   "source": [
    "def isValidBuoy(deg, long): \n",
    "    if deg >= 160 and deg <= 360 and long < 0: \n",
    "        return True\n",
    "    return False\n",
    "\n",
    "\n",
    "def builddata():\n",
    "    df_main = pd.DataFrame(columns = df_buoy_data.columns.tolist())\n",
    "    #for i in range(len(df_buoys)): \n",
    "    i = 1\n",
    "    lat, long = parse_coordinates(df_buoys.LOCATION.iloc[i])\n",
    "    angle = calculate_angle((lat, long))\n",
    "    buoy_id = int(df_buoys.iloc[i, 0])\n",
    "    print(buoy_id)\n",
    "    temp = getBuoyData(buoy_id)\n",
    "    if isValidBuoy(angle, long): \n",
    "        df_main.append(temp)\n",
    "    return df_main"
   ]
  },
  {
   "cell_type": "code",
   "execution_count": 86,
   "id": "7232f136-1317-45e1-81f0-1873b6348d5c",
   "metadata": {},
   "outputs": [
    {
     "ename": "ValueError",
     "evalue": "6 columns passed, passed data had 10 columns",
     "output_type": "error",
     "traceback": [
      "\u001b[0;31m---------------------------------------------------------------------------\u001b[0m",
      "\u001b[0;31mAssertionError\u001b[0m                            Traceback (most recent call last)",
      "File \u001b[0;32m~/opt/anaconda3/lib/python3.9/site-packages/pandas/core/internals/construction.py:982\u001b[0m, in \u001b[0;36m_finalize_columns_and_data\u001b[0;34m(content, columns, dtype)\u001b[0m\n\u001b[1;32m    981\u001b[0m \u001b[38;5;28;01mtry\u001b[39;00m:\n\u001b[0;32m--> 982\u001b[0m     columns \u001b[38;5;241m=\u001b[39m \u001b[43m_validate_or_indexify_columns\u001b[49m\u001b[43m(\u001b[49m\u001b[43mcontents\u001b[49m\u001b[43m,\u001b[49m\u001b[43m \u001b[49m\u001b[43mcolumns\u001b[49m\u001b[43m)\u001b[49m\n\u001b[1;32m    983\u001b[0m \u001b[38;5;28;01mexcept\u001b[39;00m \u001b[38;5;167;01mAssertionError\u001b[39;00m \u001b[38;5;28;01mas\u001b[39;00m err:\n\u001b[1;32m    984\u001b[0m     \u001b[38;5;66;03m# GH#26429 do not raise user-facing AssertionError\u001b[39;00m\n",
      "File \u001b[0;32m~/opt/anaconda3/lib/python3.9/site-packages/pandas/core/internals/construction.py:1030\u001b[0m, in \u001b[0;36m_validate_or_indexify_columns\u001b[0;34m(content, columns)\u001b[0m\n\u001b[1;32m   1028\u001b[0m \u001b[38;5;28;01mif\u001b[39;00m \u001b[38;5;129;01mnot\u001b[39;00m is_mi_list \u001b[38;5;129;01mand\u001b[39;00m \u001b[38;5;28mlen\u001b[39m(columns) \u001b[38;5;241m!=\u001b[39m \u001b[38;5;28mlen\u001b[39m(content):  \u001b[38;5;66;03m# pragma: no cover\u001b[39;00m\n\u001b[1;32m   1029\u001b[0m     \u001b[38;5;66;03m# caller's responsibility to check for this...\u001b[39;00m\n\u001b[0;32m-> 1030\u001b[0m     \u001b[38;5;28;01mraise\u001b[39;00m \u001b[38;5;167;01mAssertionError\u001b[39;00m(\n\u001b[1;32m   1031\u001b[0m         \u001b[38;5;124mf\u001b[39m\u001b[38;5;124m\"\u001b[39m\u001b[38;5;132;01m{\u001b[39;00m\u001b[38;5;28mlen\u001b[39m(columns)\u001b[38;5;132;01m}\u001b[39;00m\u001b[38;5;124m columns passed, passed data had \u001b[39m\u001b[38;5;124m\"\u001b[39m\n\u001b[1;32m   1032\u001b[0m         \u001b[38;5;124mf\u001b[39m\u001b[38;5;124m\"\u001b[39m\u001b[38;5;132;01m{\u001b[39;00m\u001b[38;5;28mlen\u001b[39m(content)\u001b[38;5;132;01m}\u001b[39;00m\u001b[38;5;124m columns\u001b[39m\u001b[38;5;124m\"\u001b[39m\n\u001b[1;32m   1033\u001b[0m     )\n\u001b[1;32m   1034\u001b[0m \u001b[38;5;28;01melif\u001b[39;00m is_mi_list:\n\u001b[1;32m   1035\u001b[0m \n\u001b[1;32m   1036\u001b[0m     \u001b[38;5;66;03m# check if nested list column, length of each sub-list should be equal\u001b[39;00m\n",
      "\u001b[0;31mAssertionError\u001b[0m: 6 columns passed, passed data had 10 columns",
      "\nThe above exception was the direct cause of the following exception:\n",
      "\u001b[0;31mValueError\u001b[0m                                Traceback (most recent call last)",
      "Input \u001b[0;32mIn [86]\u001b[0m, in \u001b[0;36m<cell line: 1>\u001b[0;34m()\u001b[0m\n\u001b[0;32m----> 1\u001b[0m \u001b[43mgetBuoyData\u001b[49m\u001b[43m(\u001b[49m\u001b[38;5;241;43m13001\u001b[39;49m\u001b[43m)\u001b[49m\n",
      "Input \u001b[0;32mIn [48]\u001b[0m, in \u001b[0;36mgetBuoyData\u001b[0;34m(buoyid)\u001b[0m\n\u001b[1;32m      6\u001b[0m headers \u001b[38;5;241m=\u001b[39m rows[\u001b[38;5;241m0\u001b[39m]\u001b[38;5;241m.\u001b[39mstrip()\u001b[38;5;241m.\u001b[39msplit()\n\u001b[1;32m      7\u001b[0m data \u001b[38;5;241m=\u001b[39m [row\u001b[38;5;241m.\u001b[39msplit() \u001b[38;5;28;01mfor\u001b[39;00m row \u001b[38;5;129;01min\u001b[39;00m rows[\u001b[38;5;241m1\u001b[39m:]]\n\u001b[0;32m----> 9\u001b[0m df_buoy_data \u001b[38;5;241m=\u001b[39m \u001b[43mpd\u001b[49m\u001b[38;5;241;43m.\u001b[39;49m\u001b[43mDataFrame\u001b[49m\u001b[43m(\u001b[49m\u001b[43mdata\u001b[49m\u001b[43m,\u001b[49m\u001b[43m \u001b[49m\u001b[43mcolumns\u001b[49m\u001b[38;5;241;43m=\u001b[39;49m\u001b[43mheaders\u001b[49m\u001b[43m)\u001b[49m\n\u001b[1;32m     10\u001b[0m \u001b[38;5;28;01mreturn\u001b[39;00m df_buoy_data\n",
      "File \u001b[0;32m~/opt/anaconda3/lib/python3.9/site-packages/pandas/core/frame.py:721\u001b[0m, in \u001b[0;36mDataFrame.__init__\u001b[0;34m(self, data, index, columns, dtype, copy)\u001b[0m\n\u001b[1;32m    716\u001b[0m     \u001b[38;5;28;01mif\u001b[39;00m columns \u001b[38;5;129;01mis\u001b[39;00m \u001b[38;5;129;01mnot\u001b[39;00m \u001b[38;5;28;01mNone\u001b[39;00m:\n\u001b[1;32m    717\u001b[0m         \u001b[38;5;66;03m# error: Argument 1 to \"ensure_index\" has incompatible type\u001b[39;00m\n\u001b[1;32m    718\u001b[0m         \u001b[38;5;66;03m# \"Collection[Any]\"; expected \"Union[Union[Union[ExtensionArray,\u001b[39;00m\n\u001b[1;32m    719\u001b[0m         \u001b[38;5;66;03m# ndarray], Index, Series], Sequence[Any]]\"\u001b[39;00m\n\u001b[1;32m    720\u001b[0m         columns \u001b[38;5;241m=\u001b[39m ensure_index(columns)  \u001b[38;5;66;03m# type: ignore[arg-type]\u001b[39;00m\n\u001b[0;32m--> 721\u001b[0m     arrays, columns, index \u001b[38;5;241m=\u001b[39m \u001b[43mnested_data_to_arrays\u001b[49m\u001b[43m(\u001b[49m\n\u001b[1;32m    722\u001b[0m \u001b[43m        \u001b[49m\u001b[38;5;66;43;03m# error: Argument 3 to \"nested_data_to_arrays\" has incompatible\u001b[39;49;00m\n\u001b[1;32m    723\u001b[0m \u001b[43m        \u001b[49m\u001b[38;5;66;43;03m# type \"Optional[Collection[Any]]\"; expected \"Optional[Index]\"\u001b[39;49;00m\n\u001b[1;32m    724\u001b[0m \u001b[43m        \u001b[49m\u001b[43mdata\u001b[49m\u001b[43m,\u001b[49m\n\u001b[1;32m    725\u001b[0m \u001b[43m        \u001b[49m\u001b[43mcolumns\u001b[49m\u001b[43m,\u001b[49m\n\u001b[1;32m    726\u001b[0m \u001b[43m        \u001b[49m\u001b[43mindex\u001b[49m\u001b[43m,\u001b[49m\u001b[43m  \u001b[49m\u001b[38;5;66;43;03m# type: ignore[arg-type]\u001b[39;49;00m\n\u001b[1;32m    727\u001b[0m \u001b[43m        \u001b[49m\u001b[43mdtype\u001b[49m\u001b[43m,\u001b[49m\n\u001b[1;32m    728\u001b[0m \u001b[43m    \u001b[49m\u001b[43m)\u001b[49m\n\u001b[1;32m    729\u001b[0m     mgr \u001b[38;5;241m=\u001b[39m arrays_to_mgr(\n\u001b[1;32m    730\u001b[0m         arrays,\n\u001b[1;32m    731\u001b[0m         columns,\n\u001b[0;32m   (...)\u001b[0m\n\u001b[1;32m    734\u001b[0m         typ\u001b[38;5;241m=\u001b[39mmanager,\n\u001b[1;32m    735\u001b[0m     )\n\u001b[1;32m    736\u001b[0m \u001b[38;5;28;01melse\u001b[39;00m:\n",
      "File \u001b[0;32m~/opt/anaconda3/lib/python3.9/site-packages/pandas/core/internals/construction.py:519\u001b[0m, in \u001b[0;36mnested_data_to_arrays\u001b[0;34m(data, columns, index, dtype)\u001b[0m\n\u001b[1;32m    516\u001b[0m \u001b[38;5;28;01mif\u001b[39;00m is_named_tuple(data[\u001b[38;5;241m0\u001b[39m]) \u001b[38;5;129;01mand\u001b[39;00m columns \u001b[38;5;129;01mis\u001b[39;00m \u001b[38;5;28;01mNone\u001b[39;00m:\n\u001b[1;32m    517\u001b[0m     columns \u001b[38;5;241m=\u001b[39m ensure_index(data[\u001b[38;5;241m0\u001b[39m]\u001b[38;5;241m.\u001b[39m_fields)\n\u001b[0;32m--> 519\u001b[0m arrays, columns \u001b[38;5;241m=\u001b[39m \u001b[43mto_arrays\u001b[49m\u001b[43m(\u001b[49m\u001b[43mdata\u001b[49m\u001b[43m,\u001b[49m\u001b[43m \u001b[49m\u001b[43mcolumns\u001b[49m\u001b[43m,\u001b[49m\u001b[43m \u001b[49m\u001b[43mdtype\u001b[49m\u001b[38;5;241;43m=\u001b[39;49m\u001b[43mdtype\u001b[49m\u001b[43m)\u001b[49m\n\u001b[1;32m    520\u001b[0m columns \u001b[38;5;241m=\u001b[39m ensure_index(columns)\n\u001b[1;32m    522\u001b[0m \u001b[38;5;28;01mif\u001b[39;00m index \u001b[38;5;129;01mis\u001b[39;00m \u001b[38;5;28;01mNone\u001b[39;00m:\n",
      "File \u001b[0;32m~/opt/anaconda3/lib/python3.9/site-packages/pandas/core/internals/construction.py:883\u001b[0m, in \u001b[0;36mto_arrays\u001b[0;34m(data, columns, dtype)\u001b[0m\n\u001b[1;32m    880\u001b[0m     data \u001b[38;5;241m=\u001b[39m [\u001b[38;5;28mtuple\u001b[39m(x) \u001b[38;5;28;01mfor\u001b[39;00m x \u001b[38;5;129;01min\u001b[39;00m data]\n\u001b[1;32m    881\u001b[0m     arr \u001b[38;5;241m=\u001b[39m _list_to_arrays(data)\n\u001b[0;32m--> 883\u001b[0m content, columns \u001b[38;5;241m=\u001b[39m \u001b[43m_finalize_columns_and_data\u001b[49m\u001b[43m(\u001b[49m\u001b[43marr\u001b[49m\u001b[43m,\u001b[49m\u001b[43m \u001b[49m\u001b[43mcolumns\u001b[49m\u001b[43m,\u001b[49m\u001b[43m \u001b[49m\u001b[43mdtype\u001b[49m\u001b[43m)\u001b[49m\n\u001b[1;32m    884\u001b[0m \u001b[38;5;28;01mreturn\u001b[39;00m content, columns\n",
      "File \u001b[0;32m~/opt/anaconda3/lib/python3.9/site-packages/pandas/core/internals/construction.py:985\u001b[0m, in \u001b[0;36m_finalize_columns_and_data\u001b[0;34m(content, columns, dtype)\u001b[0m\n\u001b[1;32m    982\u001b[0m     columns \u001b[38;5;241m=\u001b[39m _validate_or_indexify_columns(contents, columns)\n\u001b[1;32m    983\u001b[0m \u001b[38;5;28;01mexcept\u001b[39;00m \u001b[38;5;167;01mAssertionError\u001b[39;00m \u001b[38;5;28;01mas\u001b[39;00m err:\n\u001b[1;32m    984\u001b[0m     \u001b[38;5;66;03m# GH#26429 do not raise user-facing AssertionError\u001b[39;00m\n\u001b[0;32m--> 985\u001b[0m     \u001b[38;5;28;01mraise\u001b[39;00m \u001b[38;5;167;01mValueError\u001b[39;00m(err) \u001b[38;5;28;01mfrom\u001b[39;00m \u001b[38;5;21;01merr\u001b[39;00m\n\u001b[1;32m    987\u001b[0m \u001b[38;5;28;01mif\u001b[39;00m \u001b[38;5;28mlen\u001b[39m(contents) \u001b[38;5;129;01mand\u001b[39;00m contents[\u001b[38;5;241m0\u001b[39m]\u001b[38;5;241m.\u001b[39mdtype \u001b[38;5;241m==\u001b[39m np\u001b[38;5;241m.\u001b[39mobject_:\n\u001b[1;32m    988\u001b[0m     contents \u001b[38;5;241m=\u001b[39m _convert_object_array(contents, dtype\u001b[38;5;241m=\u001b[39mdtype)\n",
      "\u001b[0;31mValueError\u001b[0m: 6 columns passed, passed data had 10 columns"
     ]
    }
   ],
   "source": [
    "getBuoyData(13001)"
   ]
  },
  {
   "cell_type": "code",
   "execution_count": 60,
   "id": "bc143504-f8aa-4725-9a3e-3680248c4141",
   "metadata": {},
   "outputs": [
    {
     "data": {
      "text/plain": [
       "['#YY',\n",
       " 'MM',\n",
       " 'DD',\n",
       " 'hh',\n",
       " 'mm',\n",
       " 'WVHT',\n",
       " 'SwH',\n",
       " 'SwP',\n",
       " 'WWH',\n",
       " 'WWP',\n",
       " 'SwD',\n",
       " 'WWD',\n",
       " 'STEEPNESS',\n",
       " 'APD',\n",
       " 'MWD']"
      ]
     },
     "execution_count": 60,
     "metadata": {},
     "output_type": "execute_result"
    }
   ],
   "source": [
    "df_buoy_data.columns.tolist()"
   ]
  },
  {
   "cell_type": "code",
   "execution_count": 74,
   "id": "813fc9e2-a3d3-4f8f-a9a9-9a0a2e9a9fcd",
   "metadata": {},
   "outputs": [
    {
     "data": {
      "text/plain": [
       "'13002'"
      ]
     },
     "execution_count": 74,
     "metadata": {},
     "output_type": "execute_result"
    }
   ],
   "source": [
    "df_buoys.iloc[2, 0]"
   ]
  },
  {
   "cell_type": "code",
   "execution_count": 72,
   "id": "f2ac43bc-fadc-4eab-ae7c-2e80b345b1d6",
   "metadata": {},
   "outputs": [
    {
     "data": {
      "text/html": [
       "<div>\n",
       "<style scoped>\n",
       "    .dataframe tbody tr th:only-of-type {\n",
       "        vertical-align: middle;\n",
       "    }\n",
       "\n",
       "    .dataframe tbody tr th {\n",
       "        vertical-align: top;\n",
       "    }\n",
       "\n",
       "    .dataframe thead th {\n",
       "        text-align: right;\n",
       "    }\n",
       "</style>\n",
       "<table border=\"1\" class=\"dataframe\">\n",
       "  <thead>\n",
       "    <tr style=\"text-align: right;\">\n",
       "      <th></th>\n",
       "      <th># STATION_ID</th>\n",
       "      <th>OWNER</th>\n",
       "      <th>TTYPE</th>\n",
       "      <th>HULL</th>\n",
       "      <th>NAME</th>\n",
       "      <th>PAYLOAD</th>\n",
       "      <th>LOCATION</th>\n",
       "      <th>TIMEZONE</th>\n",
       "      <th>FORECAST</th>\n",
       "      <th>NOTE</th>\n",
       "    </tr>\n",
       "  </thead>\n",
       "  <tbody>\n",
       "    <tr>\n",
       "      <th>0</th>\n",
       "      <td>0y2w3</td>\n",
       "      <td>CG</td>\n",
       "      <td>Weather Station</td>\n",
       "      <td></td>\n",
       "      <td>Sturgeon Bay CG Station, WI</td>\n",
       "      <td></td>\n",
       "      <td>44.794 N 87.313 W (44&amp;#176;47'39\" N 87&amp;#176;18...</td>\n",
       "      <td>C</td>\n",
       "      <td></td>\n",
       "      <td></td>\n",
       "    </tr>\n",
       "    <tr>\n",
       "      <th>1</th>\n",
       "      <td>13001</td>\n",
       "      <td>PR</td>\n",
       "      <td>Atlas Buoy</td>\n",
       "      <td>PM-595</td>\n",
       "      <td>NE Extension</td>\n",
       "      <td></td>\n",
       "      <td>12.000 N 23.000 W (12&amp;#176;0'0\" N 23&amp;#176;0'0\" W)</td>\n",
       "      <td></td>\n",
       "      <td></td>\n",
       "      <td></td>\n",
       "    </tr>\n",
       "    <tr>\n",
       "      <th>2</th>\n",
       "      <td>13002</td>\n",
       "      <td>PR</td>\n",
       "      <td>Atlas Buoy</td>\n",
       "      <td></td>\n",
       "      <td>NE Extension</td>\n",
       "      <td></td>\n",
       "      <td>21.000 N 23.000 W (21&amp;#176;0'0\" N 23&amp;#176;0'0\" W)</td>\n",
       "      <td></td>\n",
       "      <td></td>\n",
       "      <td></td>\n",
       "    </tr>\n",
       "    <tr>\n",
       "      <th>3</th>\n",
       "      <td>13008</td>\n",
       "      <td>PR</td>\n",
       "      <td>Atlas Buoy</td>\n",
       "      <td>PM-531</td>\n",
       "      <td>Reggae</td>\n",
       "      <td></td>\n",
       "      <td>15.000 N 38.000 W (15&amp;#176;0'0\" N 38&amp;#176;0'0\" W)</td>\n",
       "      <td></td>\n",
       "      <td></td>\n",
       "      <td></td>\n",
       "    </tr>\n",
       "    <tr>\n",
       "      <th>4</th>\n",
       "      <td>13009</td>\n",
       "      <td>PR</td>\n",
       "      <td>Atlas Buoy</td>\n",
       "      <td>PM-533</td>\n",
       "      <td>Lambada</td>\n",
       "      <td></td>\n",
       "      <td>8.000 N 38.000 W (8&amp;#176;0'0\" N 38&amp;#176;0'0\" W)</td>\n",
       "      <td></td>\n",
       "      <td></td>\n",
       "      <td></td>\n",
       "    </tr>\n",
       "    <tr>\n",
       "      <th>...</th>\n",
       "      <td>...</td>\n",
       "      <td>...</td>\n",
       "      <td>...</td>\n",
       "      <td>...</td>\n",
       "      <td>...</td>\n",
       "      <td>...</td>\n",
       "      <td>...</td>\n",
       "      <td>...</td>\n",
       "      <td>...</td>\n",
       "      <td>...</td>\n",
       "    </tr>\n",
       "    <tr>\n",
       "      <th>1823</th>\n",
       "      <td>ygnn6</td>\n",
       "      <td>EA</td>\n",
       "      <td>GLOS Weather Station</td>\n",
       "      <td></td>\n",
       "      <td>Niagara Coast Guard Station, NY</td>\n",
       "      <td></td>\n",
       "      <td>43.262 N 79.064 W (43&amp;#176;15'42\" N 79&amp;#176;3'...</td>\n",
       "      <td>E</td>\n",
       "      <td></td>\n",
       "      <td>For Great Lakes marine forecasts, select: &lt;a h...</td>\n",
       "    </tr>\n",
       "    <tr>\n",
       "      <th>1824</th>\n",
       "      <td>ykrv2</td>\n",
       "      <td>PT</td>\n",
       "      <td>Water Level Observation Network</td>\n",
       "      <td></td>\n",
       "      <td>8637611 - York River East Rear Range Light, VA</td>\n",
       "      <td></td>\n",
       "      <td>37.251 N 76.342 W (37&amp;#176;15'5\" N 76&amp;#176;20'...</td>\n",
       "      <td>E</td>\n",
       "      <td>FZUS51.KAKQ</td>\n",
       "      <td></td>\n",
       "    </tr>\n",
       "    <tr>\n",
       "      <th>1825</th>\n",
       "      <td>yktv2</td>\n",
       "      <td>O</td>\n",
       "      <td>Water Level Observation Network</td>\n",
       "      <td></td>\n",
       "      <td>8637689 - Yorktown USCG Training Center, VA</td>\n",
       "      <td></td>\n",
       "      <td>37.227 N 76.479 W (37&amp;#176;13'36\" N 76&amp;#176;28...</td>\n",
       "      <td>E</td>\n",
       "      <td>FZUS51.KAKQ</td>\n",
       "      <td></td>\n",
       "    </tr>\n",
       "    <tr>\n",
       "      <th>1826</th>\n",
       "      <td>yrsv2</td>\n",
       "      <td>NR</td>\n",
       "      <td>NERRS Weather Station</td>\n",
       "      <td></td>\n",
       "      <td>Taskinas Creek, Chesapeake Bay Reserve, VA</td>\n",
       "      <td></td>\n",
       "      <td>37.414 N 76.712 W (37&amp;#176;24'51\" N 76&amp;#176;42...</td>\n",
       "      <td>E</td>\n",
       "      <td></td>\n",
       "      <td>Water Quality data for this Reserve are availa...</td>\n",
       "    </tr>\n",
       "    <tr>\n",
       "      <th>1827</th>\n",
       "      <td>zbqn7</td>\n",
       "      <td>NR</td>\n",
       "      <td>NERRS Water Quality Station</td>\n",
       "      <td></td>\n",
       "      <td>Zeke's Basin, North Carolina</td>\n",
       "      <td></td>\n",
       "      <td>33.955 N 77.935 W (33&amp;#176;57'17\" N 77&amp;#176;56...</td>\n",
       "      <td>E</td>\n",
       "      <td></td>\n",
       "      <td>Right whales are active off NC from November t...</td>\n",
       "    </tr>\n",
       "  </tbody>\n",
       "</table>\n",
       "<p>1828 rows × 10 columns</p>\n",
       "</div>"
      ],
      "text/plain": [
       "     # STATION_ID OWNER                            TTYPE    HULL  \\\n",
       "0           0y2w3    CG                  Weather Station           \n",
       "1           13001    PR                       Atlas Buoy  PM-595   \n",
       "2           13002    PR                       Atlas Buoy           \n",
       "3           13008    PR                       Atlas Buoy  PM-531   \n",
       "4           13009    PR                       Atlas Buoy  PM-533   \n",
       "...           ...   ...                              ...     ...   \n",
       "1823        ygnn6    EA             GLOS Weather Station           \n",
       "1824        ykrv2    PT  Water Level Observation Network           \n",
       "1825        yktv2     O  Water Level Observation Network           \n",
       "1826        yrsv2    NR            NERRS Weather Station           \n",
       "1827        zbqn7    NR      NERRS Water Quality Station           \n",
       "\n",
       "                                                NAME PAYLOAD  \\\n",
       "0                        Sturgeon Bay CG Station, WI           \n",
       "1                                       NE Extension           \n",
       "2                                       NE Extension           \n",
       "3                                             Reggae           \n",
       "4                                            Lambada           \n",
       "...                                              ...     ...   \n",
       "1823                 Niagara Coast Guard Station, NY           \n",
       "1824  8637611 - York River East Rear Range Light, VA           \n",
       "1825     8637689 - Yorktown USCG Training Center, VA           \n",
       "1826      Taskinas Creek, Chesapeake Bay Reserve, VA           \n",
       "1827                    Zeke's Basin, North Carolina           \n",
       "\n",
       "                                               LOCATION TIMEZONE  \\\n",
       "0     44.794 N 87.313 W (44&#176;47'39\" N 87&#176;18...        C   \n",
       "1     12.000 N 23.000 W (12&#176;0'0\" N 23&#176;0'0\" W)            \n",
       "2     21.000 N 23.000 W (21&#176;0'0\" N 23&#176;0'0\" W)            \n",
       "3     15.000 N 38.000 W (15&#176;0'0\" N 38&#176;0'0\" W)            \n",
       "4       8.000 N 38.000 W (8&#176;0'0\" N 38&#176;0'0\" W)            \n",
       "...                                                 ...      ...   \n",
       "1823  43.262 N 79.064 W (43&#176;15'42\" N 79&#176;3'...        E   \n",
       "1824  37.251 N 76.342 W (37&#176;15'5\" N 76&#176;20'...        E   \n",
       "1825  37.227 N 76.479 W (37&#176;13'36\" N 76&#176;28...        E   \n",
       "1826  37.414 N 76.712 W (37&#176;24'51\" N 76&#176;42...        E   \n",
       "1827  33.955 N 77.935 W (33&#176;57'17\" N 77&#176;56...        E   \n",
       "\n",
       "          FORECAST                                               NOTE  \n",
       "0                                                                      \n",
       "1                                                                      \n",
       "2                                                                      \n",
       "3                                                                      \n",
       "4                                                                      \n",
       "...            ...                                                ...  \n",
       "1823                For Great Lakes marine forecasts, select: <a h...  \n",
       "1824  FZUS51.KAKQ                                                      \n",
       "1825  FZUS51.KAKQ                                                      \n",
       "1826                Water Quality data for this Reserve are availa...  \n",
       "1827                Right whales are active off NC from November t...  \n",
       "\n",
       "[1828 rows x 10 columns]"
      ]
     },
     "execution_count": 72,
     "metadata": {},
     "output_type": "execute_result"
    }
   ],
   "source": [
    "df_buoys"
   ]
  },
  {
   "cell_type": "code",
   "execution_count": null,
   "id": "1ace767e-6b82-4e7b-88f4-a4f2484a5fe9",
   "metadata": {},
   "outputs": [],
   "source": []
  }
 ],
 "metadata": {
  "kernelspec": {
   "display_name": "Python 3 (ipykernel)",
   "language": "python",
   "name": "python3"
  },
  "language_info": {
   "codemirror_mode": {
    "name": "ipython",
    "version": 3
   },
   "file_extension": ".py",
   "mimetype": "text/x-python",
   "name": "python",
   "nbconvert_exporter": "python",
   "pygments_lexer": "ipython3",
   "version": "3.9.7"
  }
 },
 "nbformat": 4,
 "nbformat_minor": 5
}
